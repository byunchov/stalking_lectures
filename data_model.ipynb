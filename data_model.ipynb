{
 "cells": [
  {
   "cell_type": "code",
   "execution_count": 2,
   "id": "fc85fb3b",
   "metadata": {},
   "outputs": [],
   "source": [
    "import pandas as pd\n",
    "import numpy as np\n",
    "import re\n",
    "from zipfile import ZipFile, Path\n",
    "\n",
    "archive_path = '/home/bobiyu/Documents/UNI/ПТС/InputData.zip'"
   ]
  },
  {
   "cell_type": "code",
   "execution_count": 7,
   "id": "10bd1804",
   "metadata": {},
   "outputs": [],
   "source": [
    "allowed_file_extentions = ('.xls','.xlsx', '.ods', '.odf' ,'.odt', '.csv')"
   ]
  },
  {
   "cell_type": "markdown",
   "id": "2fc04b76",
   "metadata": {},
   "source": [
    "#### Case: Zip file uploaded for course analysis"
   ]
  },
  {
   "cell_type": "code",
   "execution_count": 90,
   "id": "42226cf6",
   "metadata": {},
   "outputs": [
    {
     "name": "stdout",
     "output_type": "stream",
     "text": [
      "CPU times: user 3 µs, sys: 0 ns, total: 3 µs\n",
      "Wall time: 5.72 µs\n",
      "Result file found! Appending DF to list.\n",
      "Result file found! Appending DF to list.\n",
      "Log file found! Appending DF to list.\n"
     ]
    }
   ],
   "source": [
    "results_df = []\n",
    "logs_df = []\n",
    "\n",
    "with ZipFile(archive_path) as input_archive:\n",
    "    %time\n",
    "    for item in input_archive.namelist():\n",
    "        if item.endswith(allowed_file_extentions):\n",
    "            with input_archive.open(item) as data_file:\n",
    "                if data_file.name.endswith(allowed_file_extentions[-1]):                    \n",
    "                    df = pd.read_csv(data_file)\n",
    "                else:\n",
    "                    df = pd.read_excel(data_file)\n",
    "                    \n",
    "                if 'ID' and 'Result' in df.columns:\n",
    "                    results_df.append(df)\n",
    "                    print('Result file found! Appending DF to list.')\n",
    "                elif 'Event' and 'Component' in df.columns:\n",
    "                    df['User ID'] = df['Description'].apply(lambda x: np.int32(re.sub(r\"[\\D]+\",' ', x).strip().split()[0]))\n",
    "                    logs_df.append(df)\n",
    "                    print('Log file found! Appending DF to list.')\n",
    "                else:\n",
    "                    print('Nothing found!')"
   ]
  },
  {
   "cell_type": "code",
   "execution_count": 101,
   "id": "fb084fd0",
   "metadata": {
    "scrolled": true
   },
   "outputs": [
    {
     "name": "stdout",
     "output_type": "stream",
     "text": [
      "CPU times: user 2 µs, sys: 0 ns, total: 2 µs\n",
      "Wall time: 5.01 µs\n"
     ]
    }
   ],
   "source": [
    "%time\n",
    "student_results = pd.concat(results_df).sort_values(by='ID', ascending=True)\n",
    "del results_df"
   ]
  },
  {
   "cell_type": "code",
   "execution_count": 102,
   "id": "e8c6f42b",
   "metadata": {},
   "outputs": [
    {
     "name": "stdout",
     "output_type": "stream",
     "text": [
      "CPU times: user 3 µs, sys: 0 ns, total: 3 µs\n",
      "Wall time: 4.29 µs\n"
     ]
    }
   ],
   "source": [
    "%time\n",
    "system_logs = pd.concat(logs_df)\n",
    "del logs_df"
   ]
  },
  {
   "cell_type": "markdown",
   "id": "76030100",
   "metadata": {},
   "source": [
    "### честотно разпределение"
   ]
  },
  {
   "cell_type": "code",
   "execution_count": 35,
   "id": "3b619d14",
   "metadata": {},
   "outputs": [
    {
     "name": "stdout",
     "output_type": "stream",
     "text": [
      "CPU times: user 7 µs, sys: 1 µs, total: 8 µs\n",
      "Wall time: 14.8 µs\n"
     ]
    }
   ],
   "source": [
    "%time\n",
    "res_abs_freq = student_results['Result'].value_counts()"
   ]
  },
  {
   "cell_type": "code",
   "execution_count": 45,
   "id": "83521443",
   "metadata": {},
   "outputs": [
    {
     "name": "stdout",
     "output_type": "stream",
     "text": [
      "136\n"
     ]
    }
   ],
   "source": [
    "res_total = res_abs_freq.sum()\n",
    "print(res_total)"
   ]
  },
  {
   "cell_type": "code",
   "execution_count": 46,
   "id": "cfe3c175",
   "metadata": {
    "scrolled": true
   },
   "outputs": [
    {
     "data": {
      "text/plain": [
       "6.0    50.74\n",
       "5.0    19.12\n",
       "4.0    15.44\n",
       "2.0     9.56\n",
       "3.0     4.41\n",
       "3.5     0.74\n",
       "Name: Result, dtype: float64"
      ]
     },
     "execution_count": 46,
     "metadata": {},
     "output_type": "execute_result"
    }
   ],
   "source": [
    "#calculate relative freq\n",
    "res_abs_freq.apply(lambda r: np.round(r / res_total *100, 2))"
   ]
  },
  {
   "cell_type": "code",
   "execution_count": 57,
   "id": "f715beef",
   "metadata": {},
   "outputs": [
    {
     "name": "stdout",
     "output_type": "stream",
     "text": [
      "CPU times: user 10 µs, sys: 0 ns, total: 10 µs\n",
      "Wall time: 17.9 µs\n"
     ]
    }
   ],
   "source": [
    "%time\n",
    "keys = res_abs_freq.keys().sort_values()\n",
    "\n",
    "ret = []\n",
    "\n",
    "for k in keys:\n",
    "    d = {}\n",
    "    d['Result'] = k\n",
    "    d['Abs freq'] = res_abs_freq[k]\n",
    "    d['Rel freq'] = np.round(res_abs_freq[k] / res_total * 100, 2)\n",
    "    ret.append(d)\n"
   ]
  },
  {
   "cell_type": "code",
   "execution_count": 58,
   "id": "542fde3a",
   "metadata": {
    "scrolled": true
   },
   "outputs": [
    {
     "data": {
      "text/plain": [
       "[{'Result': 2.0, 'Abs freq': 13, 'Rel freq': 9.56},\n",
       " {'Result': 3.0, 'Abs freq': 6, 'Rel freq': 4.41},\n",
       " {'Result': 3.5, 'Abs freq': 1, 'Rel freq': 0.74},\n",
       " {'Result': 4.0, 'Abs freq': 21, 'Rel freq': 15.44},\n",
       " {'Result': 5.0, 'Abs freq': 26, 'Rel freq': 19.12},\n",
       " {'Result': 6.0, 'Abs freq': 69, 'Rel freq': 50.74}]"
      ]
     },
     "execution_count": 58,
     "metadata": {},
     "output_type": "execute_result"
    }
   ],
   "source": [
    "ret"
   ]
  },
  {
   "cell_type": "code",
   "execution_count": 59,
   "id": "1d48bfc1",
   "metadata": {},
   "outputs": [
    {
     "data": {
      "text/html": [
       "<div>\n",
       "<style scoped>\n",
       "    .dataframe tbody tr th:only-of-type {\n",
       "        vertical-align: middle;\n",
       "    }\n",
       "\n",
       "    .dataframe tbody tr th {\n",
       "        vertical-align: top;\n",
       "    }\n",
       "\n",
       "    .dataframe thead th {\n",
       "        text-align: right;\n",
       "    }\n",
       "</style>\n",
       "<table border=\"1\" class=\"dataframe\">\n",
       "  <thead>\n",
       "    <tr style=\"text-align: right;\">\n",
       "      <th></th>\n",
       "      <th>Result</th>\n",
       "      <th>Abs freq</th>\n",
       "      <th>Rel freq</th>\n",
       "    </tr>\n",
       "  </thead>\n",
       "  <tbody>\n",
       "    <tr>\n",
       "      <th>0</th>\n",
       "      <td>2.0</td>\n",
       "      <td>13</td>\n",
       "      <td>9.56</td>\n",
       "    </tr>\n",
       "    <tr>\n",
       "      <th>1</th>\n",
       "      <td>3.0</td>\n",
       "      <td>6</td>\n",
       "      <td>4.41</td>\n",
       "    </tr>\n",
       "    <tr>\n",
       "      <th>2</th>\n",
       "      <td>3.5</td>\n",
       "      <td>1</td>\n",
       "      <td>0.74</td>\n",
       "    </tr>\n",
       "    <tr>\n",
       "      <th>3</th>\n",
       "      <td>4.0</td>\n",
       "      <td>21</td>\n",
       "      <td>15.44</td>\n",
       "    </tr>\n",
       "    <tr>\n",
       "      <th>4</th>\n",
       "      <td>5.0</td>\n",
       "      <td>26</td>\n",
       "      <td>19.12</td>\n",
       "    </tr>\n",
       "    <tr>\n",
       "      <th>5</th>\n",
       "      <td>6.0</td>\n",
       "      <td>69</td>\n",
       "      <td>50.74</td>\n",
       "    </tr>\n",
       "  </tbody>\n",
       "</table>\n",
       "</div>"
      ],
      "text/plain": [
       "   Result  Abs freq  Rel freq\n",
       "0     2.0        13      9.56\n",
       "1     3.0         6      4.41\n",
       "2     3.5         1      0.74\n",
       "3     4.0        21     15.44\n",
       "4     5.0        26     19.12\n",
       "5     6.0        69     50.74"
      ]
     },
     "execution_count": 59,
     "metadata": {},
     "output_type": "execute_result"
    }
   ],
   "source": [
    "pd.DataFrame.from_dict(ret)"
   ]
  },
  {
   "cell_type": "markdown",
   "id": "364aae31",
   "metadata": {},
   "source": [
    "### мерки на централната тенденция"
   ]
  },
  {
   "cell_type": "code",
   "execution_count": 61,
   "id": "eb758d4d",
   "metadata": {},
   "outputs": [],
   "source": [
    "upr_num = '2'\n",
    "event_context = f'Assignment: Качване на Упр. {upr_num}'\n",
    "event_name = 'Submission created.'"
   ]
  },
  {
   "cell_type": "code",
   "execution_count": 104,
   "id": "d4c5f63b",
   "metadata": {},
   "outputs": [
    {
     "name": "stdout",
     "output_type": "stream",
     "text": [
      "CPU times: user 3 µs, sys: 0 ns, total: 3 µs\n",
      "Wall time: 5.48 µs\n"
     ]
    }
   ],
   "source": [
    "%time\n",
    "df = system_logs\n",
    "filtered_data = df[df['Event context'].str.contains(event_context) & (df['Event name'] == event_name)]['Description']"
   ]
  },
  {
   "cell_type": "code",
   "execution_count": 64,
   "id": "eff2d1cc",
   "metadata": {},
   "outputs": [
    {
     "name": "stdout",
     "output_type": "stream",
     "text": [
      "CPU times: user 4 µs, sys: 0 ns, total: 4 µs\n",
      "Wall time: 6.68 µs\n"
     ]
    }
   ],
   "source": [
    "%time\n",
    "uploded_files = np.empty_like(filtered_data, dtype=int)\n",
    "# uploded_files = []\n",
    "\n",
    "for index, item in enumerate(filtered_data):\n",
    "    val = re.sub(r\"[\\D]+\",' ', item).strip()\n",
    "    uploded_files[index] = np.fromstring(val, dtype=np.int32, sep=' ')[1]"
   ]
  },
  {
   "cell_type": "code",
   "execution_count": 66,
   "id": "3733acce",
   "metadata": {},
   "outputs": [],
   "source": [
    "uploded_files.sort()"
   ]
  },
  {
   "cell_type": "code",
   "execution_count": 67,
   "id": "605d7cb1",
   "metadata": {},
   "outputs": [
    {
     "data": {
      "text/plain": [
       "array([1, 1, 1, 1, 1, 1, 1, 1, 1, 1, 1, 1, 1, 1, 1, 1, 1, 1, 1, 1, 1, 1,\n",
       "       1, 1, 1, 1, 1, 1, 1, 1, 1, 1, 1, 1, 1, 1, 1, 1, 1, 1, 1, 1, 1, 1,\n",
       "       1, 1, 1, 1, 1, 1, 1, 1, 1, 1, 1, 1, 1, 1, 1, 1, 1, 1, 1, 1, 1, 1,\n",
       "       1, 1, 1, 1, 1, 1, 1, 1, 1, 1, 1, 1, 1, 1, 2, 2, 2, 2, 2])"
      ]
     },
     "execution_count": 67,
     "metadata": {},
     "output_type": "execute_result"
    }
   ],
   "source": [
    "uploded_files"
   ]
  },
  {
   "cell_type": "code",
   "execution_count": 69,
   "id": "dd5d2650",
   "metadata": {},
   "outputs": [],
   "source": [
    "uploded_files_stats = {}"
   ]
  },
  {
   "cell_type": "code",
   "execution_count": 74,
   "id": "bb6c3672",
   "metadata": {},
   "outputs": [],
   "source": [
    "from statistics import mode\n",
    "\n",
    "#mode\n",
    "uploded_files_stats['mode'] = mode(uploded_files)\n",
    "\n",
    "#average\n",
    "uploded_files_stats['mean'] = np.round(np.mean(uploded_files), 3)\n",
    "\n",
    "#meadian\n",
    "uploded_files_stats['median'] = np.median(uploded_files)"
   ]
  },
  {
   "cell_type": "code",
   "execution_count": 75,
   "id": "2fc0579f",
   "metadata": {},
   "outputs": [
    {
     "data": {
      "text/plain": [
       "{'mode': 1, 'mean': 1.059, 'median': 1.0}"
      ]
     },
     "execution_count": 75,
     "metadata": {},
     "output_type": "execute_result"
    }
   ],
   "source": [
    "uploded_files_stats"
   ]
  },
  {
   "cell_type": "markdown",
   "id": "cb804406",
   "metadata": {},
   "source": [
    "### мерки на разсейване"
   ]
  },
  {
   "cell_type": "code",
   "execution_count": 86,
   "id": "74c28fcd",
   "metadata": {},
   "outputs": [],
   "source": [
    "spread_measurements = {}"
   ]
  },
  {
   "cell_type": "code",
   "execution_count": 87,
   "id": "179df0a4",
   "metadata": {},
   "outputs": [],
   "source": [
    "#размах\n",
    "spread_measurements['spread'] = uploded_files[-1] - uploded_files[0]\n",
    "\n",
    "#dispersion\n",
    "spread_measurements['variance'] = np.round(np.var(uploded_files), 4)\n",
    "\n",
    "#STDEV\n",
    "spread_measurements['std'] = np.round(np.std(uploded_files), 4)"
   ]
  },
  {
   "cell_type": "code",
   "execution_count": 88,
   "id": "12593233",
   "metadata": {
    "scrolled": true
   },
   "outputs": [
    {
     "name": "stdout",
     "output_type": "stream",
     "text": [
      "{'spread': 1, 'variance': 0.0554, 'std': 0.2353}\n"
     ]
    }
   ],
   "source": [
    "print(spread_measurements)"
   ]
  },
  {
   "cell_type": "markdown",
   "id": "756e4338",
   "metadata": {},
   "source": [
    "### корелационен анализ"
   ]
  },
  {
   "cell_type": "code",
   "execution_count": 91,
   "id": "2b26ae1b",
   "metadata": {},
   "outputs": [],
   "source": [
    "corr_df = student_results.copy()"
   ]
  },
  {
   "cell_type": "code",
   "execution_count": 105,
   "id": "a7c0bbd4",
   "metadata": {},
   "outputs": [],
   "source": [
    "df = system_logs\n",
    "corr_df['View Count'] = corr_df['ID'].apply(lambda uid: df[df['Event name'].str.contains('Course viewed') & (df['User ID']==uid)]['User ID'].count())"
   ]
  },
  {
   "cell_type": "code",
   "execution_count": 106,
   "id": "f7b3f59f",
   "metadata": {
    "scrolled": true
   },
   "outputs": [
    {
     "data": {
      "text/html": [
       "<div>\n",
       "<style scoped>\n",
       "    .dataframe tbody tr th:only-of-type {\n",
       "        vertical-align: middle;\n",
       "    }\n",
       "\n",
       "    .dataframe tbody tr th {\n",
       "        vertical-align: top;\n",
       "    }\n",
       "\n",
       "    .dataframe thead th {\n",
       "        text-align: right;\n",
       "    }\n",
       "</style>\n",
       "<table border=\"1\" class=\"dataframe\">\n",
       "  <thead>\n",
       "    <tr style=\"text-align: right;\">\n",
       "      <th></th>\n",
       "      <th>ID</th>\n",
       "      <th>Result</th>\n",
       "      <th>View Count</th>\n",
       "    </tr>\n",
       "  </thead>\n",
       "  <tbody>\n",
       "    <tr>\n",
       "      <th>8</th>\n",
       "      <td>6532</td>\n",
       "      <td>6.0</td>\n",
       "      <td>66</td>\n",
       "    </tr>\n",
       "    <tr>\n",
       "      <th>4</th>\n",
       "      <td>7448</td>\n",
       "      <td>5.0</td>\n",
       "      <td>2</td>\n",
       "    </tr>\n",
       "    <tr>\n",
       "      <th>3</th>\n",
       "      <td>7907</td>\n",
       "      <td>6.0</td>\n",
       "      <td>42</td>\n",
       "    </tr>\n",
       "    <tr>\n",
       "      <th>5</th>\n",
       "      <td>7909</td>\n",
       "      <td>4.0</td>\n",
       "      <td>28</td>\n",
       "    </tr>\n",
       "    <tr>\n",
       "      <th>6</th>\n",
       "      <td>7910</td>\n",
       "      <td>5.0</td>\n",
       "      <td>58</td>\n",
       "    </tr>\n",
       "    <tr>\n",
       "      <th>7</th>\n",
       "      <td>7911</td>\n",
       "      <td>4.0</td>\n",
       "      <td>31</td>\n",
       "    </tr>\n",
       "  </tbody>\n",
       "</table>\n",
       "</div>"
      ],
      "text/plain": [
       "     ID  Result  View Count\n",
       "8  6532     6.0          66\n",
       "4  7448     5.0           2\n",
       "3  7907     6.0          42\n",
       "5  7909     4.0          28\n",
       "6  7910     5.0          58\n",
       "7  7911     4.0          31"
      ]
     },
     "execution_count": 106,
     "metadata": {},
     "output_type": "execute_result"
    }
   ],
   "source": [
    "corr_df.head(6)"
   ]
  },
  {
   "cell_type": "code",
   "execution_count": 110,
   "id": "c7ea88a1",
   "metadata": {},
   "outputs": [],
   "source": [
    "corr = np.round(corr_df[['Result', 'View Count']].corr()['View Count']['Result'], 5)"
   ]
  },
  {
   "cell_type": "code",
   "execution_count": 111,
   "id": "b1f6f000",
   "metadata": {
    "scrolled": true
   },
   "outputs": [
    {
     "name": "stdout",
     "output_type": "stream",
     "text": [
      "0.3304 значителна зависимост\n"
     ]
    }
   ],
   "source": [
    "if corr == 0:\n",
    "    print('липсва зависимост')\n",
    "elif 0 > corr <= 0.3:\n",
    "    print(corr, 'зависимостта е слаба')\n",
    "elif 0.3 > corr <= 0.5:\n",
    "    print(corr, 'умерена зависимост')\n",
    "elif 0.5 > corr <= 0.7:\n",
    "    print(corr, 'значителна зависимост')\n",
    "elif 0.7 > corr <= 0.9:\n",
    "    print(corr, 'силна зависимост')\n",
    "elif 0.9 > corr < 1:\n",
    "    print(corr, 'много силна зависимост')\n",
    "elif corr == 1:\n",
    "    print(corr, 'зависимостта е функционална')"
   ]
  },
  {
   "cell_type": "markdown",
   "id": "776b8a2d",
   "metadata": {},
   "source": [
    "### честотното разпределение на данните от Вариант B"
   ]
  },
  {
   "cell_type": "code",
   "execution_count": 112,
   "id": "1af936ae",
   "metadata": {},
   "outputs": [],
   "source": [
    "total_vc = corr_df['View Count'].sum()"
   ]
  },
  {
   "cell_type": "code",
   "execution_count": 113,
   "id": "a551972b",
   "metadata": {},
   "outputs": [],
   "source": [
    "corr_df['Result rel freq'] = corr_df['View Count'].apply(lambda vc: np.round(vc / total_vc *100, 2))"
   ]
  },
  {
   "cell_type": "code",
   "execution_count": 114,
   "id": "737371bb",
   "metadata": {},
   "outputs": [
    {
     "data": {
      "text/html": [
       "<div>\n",
       "<style scoped>\n",
       "    .dataframe tbody tr th:only-of-type {\n",
       "        vertical-align: middle;\n",
       "    }\n",
       "\n",
       "    .dataframe tbody tr th {\n",
       "        vertical-align: top;\n",
       "    }\n",
       "\n",
       "    .dataframe thead th {\n",
       "        text-align: right;\n",
       "    }\n",
       "</style>\n",
       "<table border=\"1\" class=\"dataframe\">\n",
       "  <thead>\n",
       "    <tr style=\"text-align: right;\">\n",
       "      <th></th>\n",
       "      <th>ID</th>\n",
       "      <th>Result</th>\n",
       "      <th>View Count</th>\n",
       "      <th>Result rel freq</th>\n",
       "    </tr>\n",
       "  </thead>\n",
       "  <tbody>\n",
       "    <tr>\n",
       "      <th>8</th>\n",
       "      <td>6532</td>\n",
       "      <td>6.0</td>\n",
       "      <td>66</td>\n",
       "      <td>0.73</td>\n",
       "    </tr>\n",
       "    <tr>\n",
       "      <th>4</th>\n",
       "      <td>7448</td>\n",
       "      <td>5.0</td>\n",
       "      <td>2</td>\n",
       "      <td>0.02</td>\n",
       "    </tr>\n",
       "    <tr>\n",
       "      <th>3</th>\n",
       "      <td>7907</td>\n",
       "      <td>6.0</td>\n",
       "      <td>42</td>\n",
       "      <td>0.47</td>\n",
       "    </tr>\n",
       "    <tr>\n",
       "      <th>5</th>\n",
       "      <td>7909</td>\n",
       "      <td>4.0</td>\n",
       "      <td>28</td>\n",
       "      <td>0.31</td>\n",
       "    </tr>\n",
       "    <tr>\n",
       "      <th>6</th>\n",
       "      <td>7910</td>\n",
       "      <td>5.0</td>\n",
       "      <td>58</td>\n",
       "      <td>0.65</td>\n",
       "    </tr>\n",
       "    <tr>\n",
       "      <th>7</th>\n",
       "      <td>7911</td>\n",
       "      <td>4.0</td>\n",
       "      <td>31</td>\n",
       "      <td>0.34</td>\n",
       "    </tr>\n",
       "    <tr>\n",
       "      <th>9</th>\n",
       "      <td>7912</td>\n",
       "      <td>4.0</td>\n",
       "      <td>17</td>\n",
       "      <td>0.19</td>\n",
       "    </tr>\n",
       "    <tr>\n",
       "      <th>13</th>\n",
       "      <td>7913</td>\n",
       "      <td>6.0</td>\n",
       "      <td>105</td>\n",
       "      <td>1.17</td>\n",
       "    </tr>\n",
       "  </tbody>\n",
       "</table>\n",
       "</div>"
      ],
      "text/plain": [
       "      ID  Result  View Count  Result rel freq\n",
       "8   6532     6.0          66             0.73\n",
       "4   7448     5.0           2             0.02\n",
       "3   7907     6.0          42             0.47\n",
       "5   7909     4.0          28             0.31\n",
       "6   7910     5.0          58             0.65\n",
       "7   7911     4.0          31             0.34\n",
       "9   7912     4.0          17             0.19\n",
       "13  7913     6.0         105             1.17"
      ]
     },
     "execution_count": 114,
     "metadata": {},
     "output_type": "execute_result"
    }
   ],
   "source": [
    "corr_df.head(8)"
   ]
  }
 ],
 "metadata": {
  "kernelspec": {
   "display_name": "Python 3",
   "language": "python",
   "name": "python3"
  },
  "language_info": {
   "codemirror_mode": {
    "name": "ipython",
    "version": 3
   },
   "file_extension": ".py",
   "mimetype": "text/x-python",
   "name": "python",
   "nbconvert_exporter": "python",
   "pygments_lexer": "ipython3",
   "version": "3.8.5"
  }
 },
 "nbformat": 4,
 "nbformat_minor": 5
}
