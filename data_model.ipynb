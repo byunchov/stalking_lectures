{
 "cells": [
  {
   "cell_type": "code",
   "execution_count": 21,
   "id": "fc85fb3b",
   "metadata": {},
   "outputs": [],
   "source": [
    "import pandas as pd\n",
    "import numpy as np\n",
    "import re\n",
    "from zipfile import ZipFile, Path\n",
    "import json\n",
    "\n",
    "archive_path = '/home/bobiyu/Documents/UNI/ПТС/InputData.zip'"
   ]
  },
  {
   "cell_type": "code",
   "execution_count": 4,
   "id": "10bd1804",
   "metadata": {},
   "outputs": [],
   "source": [
    "allowed_file_extentions = ('.xls','.xlsx', '.ods', '.odf' ,'.odt', '.csv')"
   ]
  },
  {
   "cell_type": "markdown",
   "id": "2fc04b76",
   "metadata": {},
   "source": [
    "#### Case: Zip file uploaded for course analysis"
   ]
  },
  {
   "cell_type": "code",
   "execution_count": 5,
   "id": "42226cf6",
   "metadata": {},
   "outputs": [
    {
     "name": "stdout",
     "output_type": "stream",
     "text": [
      "CPU times: user 2 µs, sys: 1 µs, total: 3 µs\n",
      "Wall time: 4.77 µs\n",
      "Result file found! Appending DF to list.\n",
      "Result file found! Appending DF to list.\n",
      "Log file found! Appending DF to list.\n"
     ]
    }
   ],
   "source": [
    "results_df = []\n",
    "logs_df = []\n",
    "\n",
    "with ZipFile(archive_path) as input_archive:\n",
    "    %time\n",
    "    for item in input_archive.namelist():\n",
    "        if item.endswith(allowed_file_extentions):\n",
    "            with input_archive.open(item) as data_file:\n",
    "                if data_file.name.endswith(allowed_file_extentions[-1]):                    \n",
    "                    df = pd.read_csv(data_file)\n",
    "                else:\n",
    "                    df = pd.read_excel(data_file)\n",
    "                    \n",
    "                if 'ID' and 'Result' in df.columns:\n",
    "                    results_df.append(df)\n",
    "                    print('Result file found! Appending DF to list.')\n",
    "                elif 'Event' and 'Component' in df.columns:\n",
    "                    df['User ID'] = df['Description'].apply(lambda x: np.int32(re.sub(r\"[\\D]+\",' ', x).strip().split()[0]))\n",
    "                    logs_df.append(df)\n",
    "                    print('Log file found! Appending DF to list.')\n",
    "                else:\n",
    "                    print('Nothing found!')"
   ]
  },
  {
   "cell_type": "code",
   "execution_count": 6,
   "id": "fb084fd0",
   "metadata": {
    "scrolled": true
   },
   "outputs": [
    {
     "name": "stdout",
     "output_type": "stream",
     "text": [
      "CPU times: user 2 µs, sys: 0 ns, total: 2 µs\n",
      "Wall time: 3.58 µs\n"
     ]
    }
   ],
   "source": [
    "%time\n",
    "student_results = pd.concat(results_df).sort_values(by='ID', ascending=True)\n",
    "del results_df"
   ]
  },
  {
   "cell_type": "code",
   "execution_count": 7,
   "id": "e8c6f42b",
   "metadata": {
    "scrolled": true
   },
   "outputs": [
    {
     "name": "stdout",
     "output_type": "stream",
     "text": [
      "CPU times: user 4 µs, sys: 0 ns, total: 4 µs\n",
      "Wall time: 5.48 µs\n"
     ]
    }
   ],
   "source": [
    "%time\n",
    "system_logs = pd.concat(logs_df)\n",
    "del logs_df"
   ]
  },
  {
   "cell_type": "markdown",
   "id": "76030100",
   "metadata": {},
   "source": [
    "### честотно разпределение"
   ]
  },
  {
   "cell_type": "code",
   "execution_count": 35,
   "id": "3b619d14",
   "metadata": {},
   "outputs": [
    {
     "name": "stdout",
     "output_type": "stream",
     "text": [
      "CPU times: user 7 µs, sys: 1 µs, total: 8 µs\n",
      "Wall time: 14.8 µs\n"
     ]
    }
   ],
   "source": [
    "%time\n",
    "res_abs_freq = student_results['Result'].value_counts()"
   ]
  },
  {
   "cell_type": "code",
   "execution_count": 45,
   "id": "83521443",
   "metadata": {},
   "outputs": [
    {
     "name": "stdout",
     "output_type": "stream",
     "text": [
      "136\n"
     ]
    }
   ],
   "source": [
    "res_total = res_abs_freq.sum()\n",
    "print(res_total)"
   ]
  },
  {
   "cell_type": "code",
   "execution_count": 46,
   "id": "cfe3c175",
   "metadata": {
    "scrolled": true
   },
   "outputs": [
    {
     "data": {
      "text/plain": [
       "6.0    50.74\n",
       "5.0    19.12\n",
       "4.0    15.44\n",
       "2.0     9.56\n",
       "3.0     4.41\n",
       "3.5     0.74\n",
       "Name: Result, dtype: float64"
      ]
     },
     "execution_count": 46,
     "metadata": {},
     "output_type": "execute_result"
    }
   ],
   "source": [
    "#calculate relative freq\n",
    "res_abs_freq.apply(lambda r: np.round(r / res_total *100, 2))"
   ]
  },
  {
   "cell_type": "code",
   "execution_count": 57,
   "id": "f715beef",
   "metadata": {},
   "outputs": [
    {
     "name": "stdout",
     "output_type": "stream",
     "text": [
      "CPU times: user 10 µs, sys: 0 ns, total: 10 µs\n",
      "Wall time: 17.9 µs\n"
     ]
    }
   ],
   "source": [
    "%time\n",
    "keys = res_abs_freq.keys().sort_values()\n",
    "\n",
    "ret = []\n",
    "\n",
    "for k in keys:\n",
    "    d = {}\n",
    "    d['Result'] = k\n",
    "    d['Abs freq'] = res_abs_freq[k]\n",
    "    d['Rel freq'] = np.round(res_abs_freq[k] / res_total * 100, 2)\n",
    "    ret.append(d)\n"
   ]
  },
  {
   "cell_type": "code",
   "execution_count": 58,
   "id": "542fde3a",
   "metadata": {
    "scrolled": true
   },
   "outputs": [
    {
     "data": {
      "text/plain": [
       "[{'Result': 2.0, 'Abs freq': 13, 'Rel freq': 9.56},\n",
       " {'Result': 3.0, 'Abs freq': 6, 'Rel freq': 4.41},\n",
       " {'Result': 3.5, 'Abs freq': 1, 'Rel freq': 0.74},\n",
       " {'Result': 4.0, 'Abs freq': 21, 'Rel freq': 15.44},\n",
       " {'Result': 5.0, 'Abs freq': 26, 'Rel freq': 19.12},\n",
       " {'Result': 6.0, 'Abs freq': 69, 'Rel freq': 50.74}]"
      ]
     },
     "execution_count": 58,
     "metadata": {},
     "output_type": "execute_result"
    }
   ],
   "source": [
    "ret"
   ]
  },
  {
   "cell_type": "code",
   "execution_count": 59,
   "id": "1d48bfc1",
   "metadata": {},
   "outputs": [
    {
     "data": {
      "text/html": [
       "<div>\n",
       "<style scoped>\n",
       "    .dataframe tbody tr th:only-of-type {\n",
       "        vertical-align: middle;\n",
       "    }\n",
       "\n",
       "    .dataframe tbody tr th {\n",
       "        vertical-align: top;\n",
       "    }\n",
       "\n",
       "    .dataframe thead th {\n",
       "        text-align: right;\n",
       "    }\n",
       "</style>\n",
       "<table border=\"1\" class=\"dataframe\">\n",
       "  <thead>\n",
       "    <tr style=\"text-align: right;\">\n",
       "      <th></th>\n",
       "      <th>Result</th>\n",
       "      <th>Abs freq</th>\n",
       "      <th>Rel freq</th>\n",
       "    </tr>\n",
       "  </thead>\n",
       "  <tbody>\n",
       "    <tr>\n",
       "      <th>0</th>\n",
       "      <td>2.0</td>\n",
       "      <td>13</td>\n",
       "      <td>9.56</td>\n",
       "    </tr>\n",
       "    <tr>\n",
       "      <th>1</th>\n",
       "      <td>3.0</td>\n",
       "      <td>6</td>\n",
       "      <td>4.41</td>\n",
       "    </tr>\n",
       "    <tr>\n",
       "      <th>2</th>\n",
       "      <td>3.5</td>\n",
       "      <td>1</td>\n",
       "      <td>0.74</td>\n",
       "    </tr>\n",
       "    <tr>\n",
       "      <th>3</th>\n",
       "      <td>4.0</td>\n",
       "      <td>21</td>\n",
       "      <td>15.44</td>\n",
       "    </tr>\n",
       "    <tr>\n",
       "      <th>4</th>\n",
       "      <td>5.0</td>\n",
       "      <td>26</td>\n",
       "      <td>19.12</td>\n",
       "    </tr>\n",
       "    <tr>\n",
       "      <th>5</th>\n",
       "      <td>6.0</td>\n",
       "      <td>69</td>\n",
       "      <td>50.74</td>\n",
       "    </tr>\n",
       "  </tbody>\n",
       "</table>\n",
       "</div>"
      ],
      "text/plain": [
       "   Result  Abs freq  Rel freq\n",
       "0     2.0        13      9.56\n",
       "1     3.0         6      4.41\n",
       "2     3.5         1      0.74\n",
       "3     4.0        21     15.44\n",
       "4     5.0        26     19.12\n",
       "5     6.0        69     50.74"
      ]
     },
     "execution_count": 59,
     "metadata": {},
     "output_type": "execute_result"
    }
   ],
   "source": [
    "pd.DataFrame.from_dict(ret)"
   ]
  },
  {
   "cell_type": "markdown",
   "id": "364aae31",
   "metadata": {},
   "source": [
    "### мерки на централната тенденция"
   ]
  },
  {
   "cell_type": "code",
   "execution_count": 61,
   "id": "eb758d4d",
   "metadata": {},
   "outputs": [],
   "source": [
    "upr_num = '2'\n",
    "event_context = f'Assignment: Качване на Упр. {upr_num}'\n",
    "event_name = 'Submission created.'"
   ]
  },
  {
   "cell_type": "code",
   "execution_count": 104,
   "id": "d4c5f63b",
   "metadata": {},
   "outputs": [
    {
     "name": "stdout",
     "output_type": "stream",
     "text": [
      "CPU times: user 3 µs, sys: 0 ns, total: 3 µs\n",
      "Wall time: 5.48 µs\n"
     ]
    }
   ],
   "source": [
    "%time\n",
    "df = system_logs\n",
    "filtered_data = df[df['Event context'].str.contains(event_context) & (df['Event name'] == event_name)]['Description']"
   ]
  },
  {
   "cell_type": "code",
   "execution_count": 64,
   "id": "eff2d1cc",
   "metadata": {},
   "outputs": [
    {
     "name": "stdout",
     "output_type": "stream",
     "text": [
      "CPU times: user 4 µs, sys: 0 ns, total: 4 µs\n",
      "Wall time: 6.68 µs\n"
     ]
    }
   ],
   "source": [
    "%time\n",
    "uploded_files = np.empty_like(filtered_data, dtype=int)\n",
    "# uploded_files = []\n",
    "\n",
    "for index, item in enumerate(filtered_data):\n",
    "    val = re.sub(r\"[\\D]+\",' ', item).strip()\n",
    "    uploded_files[index] = np.fromstring(val, dtype=np.int32, sep=' ')[1]"
   ]
  },
  {
   "cell_type": "code",
   "execution_count": 66,
   "id": "3733acce",
   "metadata": {},
   "outputs": [],
   "source": [
    "uploded_files.sort()"
   ]
  },
  {
   "cell_type": "code",
   "execution_count": 67,
   "id": "605d7cb1",
   "metadata": {},
   "outputs": [
    {
     "data": {
      "text/plain": [
       "array([1, 1, 1, 1, 1, 1, 1, 1, 1, 1, 1, 1, 1, 1, 1, 1, 1, 1, 1, 1, 1, 1,\n",
       "       1, 1, 1, 1, 1, 1, 1, 1, 1, 1, 1, 1, 1, 1, 1, 1, 1, 1, 1, 1, 1, 1,\n",
       "       1, 1, 1, 1, 1, 1, 1, 1, 1, 1, 1, 1, 1, 1, 1, 1, 1, 1, 1, 1, 1, 1,\n",
       "       1, 1, 1, 1, 1, 1, 1, 1, 1, 1, 1, 1, 1, 1, 2, 2, 2, 2, 2])"
      ]
     },
     "execution_count": 67,
     "metadata": {},
     "output_type": "execute_result"
    }
   ],
   "source": [
    "uploded_files"
   ]
  },
  {
   "cell_type": "code",
   "execution_count": 69,
   "id": "dd5d2650",
   "metadata": {},
   "outputs": [],
   "source": [
    "uploded_files_stats = {}"
   ]
  },
  {
   "cell_type": "code",
   "execution_count": 74,
   "id": "bb6c3672",
   "metadata": {},
   "outputs": [],
   "source": [
    "from statistics import mode\n",
    "\n",
    "#mode\n",
    "uploded_files_stats['mode'] = mode(uploded_files)\n",
    "\n",
    "#average\n",
    "uploded_files_stats['mean'] = np.round(np.mean(uploded_files), 3)\n",
    "\n",
    "#meadian\n",
    "uploded_files_stats['median'] = np.median(uploded_files)"
   ]
  },
  {
   "cell_type": "code",
   "execution_count": 75,
   "id": "2fc0579f",
   "metadata": {},
   "outputs": [
    {
     "data": {
      "text/plain": [
       "{'mode': 1, 'mean': 1.059, 'median': 1.0}"
      ]
     },
     "execution_count": 75,
     "metadata": {},
     "output_type": "execute_result"
    }
   ],
   "source": [
    "uploded_files_stats"
   ]
  },
  {
   "cell_type": "markdown",
   "id": "cb804406",
   "metadata": {},
   "source": [
    "### мерки на разсейване"
   ]
  },
  {
   "cell_type": "code",
   "execution_count": 86,
   "id": "74c28fcd",
   "metadata": {},
   "outputs": [],
   "source": [
    "spread_measurements = {}"
   ]
  },
  {
   "cell_type": "code",
   "execution_count": 87,
   "id": "179df0a4",
   "metadata": {},
   "outputs": [],
   "source": [
    "#размах\n",
    "spread_measurements['spread'] = uploded_files[-1] - uploded_files[0]\n",
    "\n",
    "#dispersion\n",
    "spread_measurements['variance'] = np.round(np.var(uploded_files), 4)\n",
    "\n",
    "#STDEV\n",
    "spread_measurements['std'] = np.round(np.std(uploded_files), 4)"
   ]
  },
  {
   "cell_type": "code",
   "execution_count": 88,
   "id": "12593233",
   "metadata": {
    "scrolled": true
   },
   "outputs": [
    {
     "name": "stdout",
     "output_type": "stream",
     "text": [
      "{'spread': 1, 'variance': 0.0554, 'std': 0.2353}\n"
     ]
    }
   ],
   "source": [
    "print(spread_measurements)"
   ]
  },
  {
   "cell_type": "markdown",
   "id": "756e4338",
   "metadata": {},
   "source": [
    "### корелационен анализ"
   ]
  },
  {
   "cell_type": "code",
   "execution_count": 8,
   "id": "2b26ae1b",
   "metadata": {},
   "outputs": [],
   "source": [
    "corr_df = student_results.copy()"
   ]
  },
  {
   "cell_type": "code",
   "execution_count": 9,
   "id": "a7c0bbd4",
   "metadata": {},
   "outputs": [],
   "source": [
    "df = system_logs\n",
    "corr_df['View Count'] = corr_df['ID'].apply(lambda uid: df[df['Event name'].str.contains('Course viewed') & (df['User ID']==uid)]['User ID'].count())"
   ]
  },
  {
   "cell_type": "code",
   "execution_count": 10,
   "id": "f7b3f59f",
   "metadata": {
    "scrolled": true
   },
   "outputs": [
    {
     "data": {
      "text/html": [
       "<div>\n",
       "<style scoped>\n",
       "    .dataframe tbody tr th:only-of-type {\n",
       "        vertical-align: middle;\n",
       "    }\n",
       "\n",
       "    .dataframe tbody tr th {\n",
       "        vertical-align: top;\n",
       "    }\n",
       "\n",
       "    .dataframe thead th {\n",
       "        text-align: right;\n",
       "    }\n",
       "</style>\n",
       "<table border=\"1\" class=\"dataframe\">\n",
       "  <thead>\n",
       "    <tr style=\"text-align: right;\">\n",
       "      <th></th>\n",
       "      <th>ID</th>\n",
       "      <th>Result</th>\n",
       "      <th>View Count</th>\n",
       "    </tr>\n",
       "  </thead>\n",
       "  <tbody>\n",
       "    <tr>\n",
       "      <th>8</th>\n",
       "      <td>6532</td>\n",
       "      <td>6.0</td>\n",
       "      <td>66</td>\n",
       "    </tr>\n",
       "    <tr>\n",
       "      <th>4</th>\n",
       "      <td>7448</td>\n",
       "      <td>5.0</td>\n",
       "      <td>2</td>\n",
       "    </tr>\n",
       "    <tr>\n",
       "      <th>3</th>\n",
       "      <td>7907</td>\n",
       "      <td>6.0</td>\n",
       "      <td>42</td>\n",
       "    </tr>\n",
       "    <tr>\n",
       "      <th>5</th>\n",
       "      <td>7909</td>\n",
       "      <td>4.0</td>\n",
       "      <td>28</td>\n",
       "    </tr>\n",
       "    <tr>\n",
       "      <th>6</th>\n",
       "      <td>7910</td>\n",
       "      <td>5.0</td>\n",
       "      <td>58</td>\n",
       "    </tr>\n",
       "    <tr>\n",
       "      <th>7</th>\n",
       "      <td>7911</td>\n",
       "      <td>4.0</td>\n",
       "      <td>31</td>\n",
       "    </tr>\n",
       "  </tbody>\n",
       "</table>\n",
       "</div>"
      ],
      "text/plain": [
       "     ID  Result  View Count\n",
       "8  6532     6.0          66\n",
       "4  7448     5.0           2\n",
       "3  7907     6.0          42\n",
       "5  7909     4.0          28\n",
       "6  7910     5.0          58\n",
       "7  7911     4.0          31"
      ]
     },
     "execution_count": 10,
     "metadata": {},
     "output_type": "execute_result"
    }
   ],
   "source": [
    "corr_df.head(6)"
   ]
  },
  {
   "cell_type": "code",
   "execution_count": 11,
   "id": "c7ea88a1",
   "metadata": {},
   "outputs": [],
   "source": [
    "corr = np.round(corr_df[['Result', 'View Count']].corr()['View Count']['Result'], 5)"
   ]
  },
  {
   "cell_type": "code",
   "execution_count": 12,
   "id": "b1f6f000",
   "metadata": {
    "scrolled": true
   },
   "outputs": [
    {
     "name": "stdout",
     "output_type": "stream",
     "text": [
      "0.3304 значителна зависимост\n"
     ]
    }
   ],
   "source": [
    "if corr == 0:\n",
    "    print('липсва зависимост')\n",
    "elif 0 > corr <= 0.3:\n",
    "    print(corr, ',зависимостта е слаба')\n",
    "elif 0.3 > corr <= 0.5:\n",
    "    print(corr, ',умерена зависимост')\n",
    "elif 0.5 > corr <= 0.7:\n",
    "    print(corr, ',значителна зависимост')\n",
    "elif 0.7 > corr <= 0.9:\n",
    "    print(corr, ',силна зависимост')\n",
    "elif 0.9 > corr < 1:\n",
    "    print(corr, ',много силна зависимост')\n",
    "elif corr == 1:\n",
    "    print(corr, ',зависимостта е функционална')"
   ]
  },
  {
   "cell_type": "code",
   "execution_count": 20,
   "id": "5643d0a5",
   "metadata": {},
   "outputs": [],
   "source": [
    "dt = {'correlation': 0.3304, 'dependency': 'значителна зависимост'}"
   ]
  },
  {
   "cell_type": "code",
   "execution_count": 22,
   "id": "0796e40c",
   "metadata": {},
   "outputs": [
    {
     "data": {
      "text/plain": [
       "'{\"correlation\": 0.3304, \"dependency\": \"\\\\u0437\\\\u043d\\\\u0430\\\\u0447\\\\u0438\\\\u0442\\\\u0435\\\\u043b\\\\u043d\\\\u0430 \\\\u0437\\\\u0430\\\\u0432\\\\u0438\\\\u0441\\\\u0438\\\\u043c\\\\u043e\\\\u0441\\\\u0442\"}'"
      ]
     },
     "execution_count": 22,
     "metadata": {},
     "output_type": "execute_result"
    }
   ],
   "source": [
    "json.dumps(dt)"
   ]
  },
  {
   "cell_type": "markdown",
   "id": "776b8a2d",
   "metadata": {},
   "source": [
    "### честотното разпределение на данните от Вариант B"
   ]
  },
  {
   "cell_type": "code",
   "execution_count": 13,
   "id": "1af936ae",
   "metadata": {},
   "outputs": [],
   "source": [
    "total_vc = corr_df['View Count'].sum()"
   ]
  },
  {
   "cell_type": "code",
   "execution_count": 14,
   "id": "a551972b",
   "metadata": {},
   "outputs": [],
   "source": [
    "corr_df['Result rel freq'] = corr_df['View Count'].apply(lambda vc: np.round(vc / total_vc *100, 2))"
   ]
  },
  {
   "cell_type": "code",
   "execution_count": 16,
   "id": "737371bb",
   "metadata": {
    "scrolled": true
   },
   "outputs": [
    {
     "data": {
      "text/html": [
       "<div>\n",
       "<style scoped>\n",
       "    .dataframe tbody tr th:only-of-type {\n",
       "        vertical-align: middle;\n",
       "    }\n",
       "\n",
       "    .dataframe tbody tr th {\n",
       "        vertical-align: top;\n",
       "    }\n",
       "\n",
       "    .dataframe thead th {\n",
       "        text-align: right;\n",
       "    }\n",
       "</style>\n",
       "<table border=\"1\" class=\"dataframe\">\n",
       "  <thead>\n",
       "    <tr style=\"text-align: right;\">\n",
       "      <th></th>\n",
       "      <th>ID</th>\n",
       "      <th>Result</th>\n",
       "      <th>View Count</th>\n",
       "      <th>Result rel freq</th>\n",
       "    </tr>\n",
       "  </thead>\n",
       "  <tbody>\n",
       "    <tr>\n",
       "      <th>8</th>\n",
       "      <td>6532</td>\n",
       "      <td>6.0</td>\n",
       "      <td>66</td>\n",
       "      <td>0.73</td>\n",
       "    </tr>\n",
       "    <tr>\n",
       "      <th>4</th>\n",
       "      <td>7448</td>\n",
       "      <td>5.0</td>\n",
       "      <td>2</td>\n",
       "      <td>0.02</td>\n",
       "    </tr>\n",
       "    <tr>\n",
       "      <th>3</th>\n",
       "      <td>7907</td>\n",
       "      <td>6.0</td>\n",
       "      <td>42</td>\n",
       "      <td>0.47</td>\n",
       "    </tr>\n",
       "    <tr>\n",
       "      <th>5</th>\n",
       "      <td>7909</td>\n",
       "      <td>4.0</td>\n",
       "      <td>28</td>\n",
       "      <td>0.31</td>\n",
       "    </tr>\n",
       "    <tr>\n",
       "      <th>6</th>\n",
       "      <td>7910</td>\n",
       "      <td>5.0</td>\n",
       "      <td>58</td>\n",
       "      <td>0.65</td>\n",
       "    </tr>\n",
       "    <tr>\n",
       "      <th>7</th>\n",
       "      <td>7911</td>\n",
       "      <td>4.0</td>\n",
       "      <td>31</td>\n",
       "      <td>0.34</td>\n",
       "    </tr>\n",
       "    <tr>\n",
       "      <th>9</th>\n",
       "      <td>7912</td>\n",
       "      <td>4.0</td>\n",
       "      <td>17</td>\n",
       "      <td>0.19</td>\n",
       "    </tr>\n",
       "    <tr>\n",
       "      <th>13</th>\n",
       "      <td>7913</td>\n",
       "      <td>6.0</td>\n",
       "      <td>105</td>\n",
       "      <td>1.17</td>\n",
       "    </tr>\n",
       "  </tbody>\n",
       "</table>\n",
       "</div>"
      ],
      "text/plain": [
       "      ID  Result  View Count  Result rel freq\n",
       "8   6532     6.0          66             0.73\n",
       "4   7448     5.0           2             0.02\n",
       "3   7907     6.0          42             0.47\n",
       "5   7909     4.0          28             0.31\n",
       "6   7910     5.0          58             0.65\n",
       "7   7911     4.0          31             0.34\n",
       "9   7912     4.0          17             0.19\n",
       "13  7913     6.0         105             1.17"
      ]
     },
     "execution_count": 16,
     "metadata": {},
     "output_type": "execute_result"
    }
   ],
   "source": [
    "corr_df.head(8)"
   ]
  },
  {
   "cell_type": "code",
   "execution_count": 19,
   "id": "442ba6b9",
   "metadata": {},
   "outputs": [
    {
     "data": {
      "text/plain": [
       "(136, 4)"
      ]
     },
     "execution_count": 19,
     "metadata": {},
     "output_type": "execute_result"
    }
   ],
   "source": [
    "corr_df.shape"
   ]
  },
  {
   "cell_type": "code",
   "execution_count": 24,
   "id": "23d516f3",
   "metadata": {
    "scrolled": true
   },
   "outputs": [
    {
     "data": {
      "text/plain": [
       "'[{\"ID\":6532,\"Result\":6.0,\"View Count\":66,\"Result rel freq\":0.73},{\"ID\":7448,\"Result\":5.0,\"View Count\":2,\"Result rel freq\":0.02},{\"ID\":7907,\"Result\":6.0,\"View Count\":42,\"Result rel freq\":0.47},{\"ID\":7909,\"Result\":4.0,\"View Count\":28,\"Result rel freq\":0.31},{\"ID\":7910,\"Result\":5.0,\"View Count\":58,\"Result rel freq\":0.65},{\"ID\":7911,\"Result\":4.0,\"View Count\":31,\"Result rel freq\":0.34},{\"ID\":7912,\"Result\":4.0,\"View Count\":17,\"Result rel freq\":0.19},{\"ID\":7913,\"Result\":6.0,\"View Count\":105,\"Result rel freq\":1.17},{\"ID\":7914,\"Result\":4.0,\"View Count\":5,\"Result rel freq\":0.06},{\"ID\":7915,\"Result\":6.0,\"View Count\":106,\"Result rel freq\":1.18},{\"ID\":7916,\"Result\":5.0,\"View Count\":33,\"Result rel freq\":0.37},{\"ID\":7917,\"Result\":4.0,\"View Count\":61,\"Result rel freq\":0.68},{\"ID\":7918,\"Result\":5.0,\"View Count\":7,\"Result rel freq\":0.08},{\"ID\":7919,\"Result\":6.0,\"View Count\":49,\"Result rel freq\":0.55},{\"ID\":7921,\"Result\":4.0,\"View Count\":25,\"Result rel freq\":0.28},{\"ID\":7922,\"Result\":3.5,\"View Count\":121,\"Result rel freq\":1.35},{\"ID\":7924,\"Result\":3.0,\"View Count\":18,\"Result rel freq\":0.2},{\"ID\":7925,\"Result\":4.0,\"View Count\":7,\"Result rel freq\":0.08},{\"ID\":7926,\"Result\":2.0,\"View Count\":40,\"Result rel freq\":0.45},{\"ID\":7927,\"Result\":4.0,\"View Count\":27,\"Result rel freq\":0.3},{\"ID\":7928,\"Result\":6.0,\"View Count\":93,\"Result rel freq\":1.03},{\"ID\":7929,\"Result\":3.0,\"View Count\":88,\"Result rel freq\":0.98},{\"ID\":7930,\"Result\":6.0,\"View Count\":42,\"Result rel freq\":0.47},{\"ID\":7931,\"Result\":6.0,\"View Count\":28,\"Result rel freq\":0.31},{\"ID\":7932,\"Result\":6.0,\"View Count\":51,\"Result rel freq\":0.57},{\"ID\":7933,\"Result\":4.0,\"View Count\":75,\"Result rel freq\":0.83},{\"ID\":7934,\"Result\":6.0,\"View Count\":105,\"Result rel freq\":1.17},{\"ID\":7935,\"Result\":6.0,\"View Count\":54,\"Result rel freq\":0.6},{\"ID\":7936,\"Result\":6.0,\"View Count\":48,\"Result rel freq\":0.53},{\"ID\":7938,\"Result\":6.0,\"View Count\":33,\"Result rel freq\":0.37},{\"ID\":7941,\"Result\":6.0,\"View Count\":121,\"Result rel freq\":1.35},{\"ID\":7942,\"Result\":6.0,\"View Count\":44,\"Result rel freq\":0.49},{\"ID\":7943,\"Result\":6.0,\"View Count\":15,\"Result rel freq\":0.17},{\"ID\":7944,\"Result\":3.0,\"View Count\":57,\"Result rel freq\":0.63},{\"ID\":7945,\"Result\":4.0,\"View Count\":26,\"Result rel freq\":0.29},{\"ID\":7946,\"Result\":4.0,\"View Count\":50,\"Result rel freq\":0.56},{\"ID\":7947,\"Result\":5.0,\"View Count\":50,\"Result rel freq\":0.56},{\"ID\":7948,\"Result\":3.0,\"View Count\":11,\"Result rel freq\":0.12},{\"ID\":7949,\"Result\":5.0,\"View Count\":58,\"Result rel freq\":0.65},{\"ID\":7950,\"Result\":5.0,\"View Count\":42,\"Result rel freq\":0.47},{\"ID\":7951,\"Result\":6.0,\"View Count\":25,\"Result rel freq\":0.28},{\"ID\":7952,\"Result\":6.0,\"View Count\":40,\"Result rel freq\":0.45},{\"ID\":7953,\"Result\":6.0,\"View Count\":107,\"Result rel freq\":1.19},{\"ID\":7954,\"Result\":4.0,\"View Count\":91,\"Result rel freq\":1.01},{\"ID\":7955,\"Result\":2.0,\"View Count\":10,\"Result rel freq\":0.11},{\"ID\":8019,\"Result\":6.0,\"View Count\":2,\"Result rel freq\":0.02},{\"ID\":8373,\"Result\":6.0,\"View Count\":89,\"Result rel freq\":0.99},{\"ID\":8374,\"Result\":6.0,\"View Count\":44,\"Result rel freq\":0.49},{\"ID\":8375,\"Result\":6.0,\"View Count\":52,\"Result rel freq\":0.58},{\"ID\":8376,\"Result\":6.0,\"View Count\":79,\"Result rel freq\":0.88},{\"ID\":8377,\"Result\":6.0,\"View Count\":65,\"Result rel freq\":0.72},{\"ID\":8378,\"Result\":6.0,\"View Count\":86,\"Result rel freq\":0.96},{\"ID\":8379,\"Result\":2.0,\"View Count\":74,\"Result rel freq\":0.82},{\"ID\":8380,\"Result\":5.0,\"View Count\":161,\"Result rel freq\":1.79},{\"ID\":8381,\"Result\":2.0,\"View Count\":66,\"Result rel freq\":0.73},{\"ID\":8382,\"Result\":5.0,\"View Count\":49,\"Result rel freq\":0.55},{\"ID\":8383,\"Result\":5.0,\"View Count\":86,\"Result rel freq\":0.96},{\"ID\":8384,\"Result\":4.0,\"View Count\":47,\"Result rel freq\":0.52},{\"ID\":8385,\"Result\":5.0,\"View Count\":18,\"Result rel freq\":0.2},{\"ID\":8386,\"Result\":5.0,\"View Count\":5,\"Result rel freq\":0.06},{\"ID\":8387,\"Result\":6.0,\"View Count\":101,\"Result rel freq\":1.12},{\"ID\":8388,\"Result\":5.0,\"View Count\":59,\"Result rel freq\":0.66},{\"ID\":8389,\"Result\":6.0,\"View Count\":69,\"Result rel freq\":0.77},{\"ID\":8390,\"Result\":6.0,\"View Count\":129,\"Result rel freq\":1.44},{\"ID\":8391,\"Result\":6.0,\"View Count\":218,\"Result rel freq\":2.43},{\"ID\":8392,\"Result\":6.0,\"View Count\":70,\"Result rel freq\":0.78},{\"ID\":8393,\"Result\":4.0,\"View Count\":129,\"Result rel freq\":1.44},{\"ID\":8394,\"Result\":6.0,\"View Count\":95,\"Result rel freq\":1.06},{\"ID\":8395,\"Result\":5.0,\"View Count\":64,\"Result rel freq\":0.71},{\"ID\":8396,\"Result\":5.0,\"View Count\":54,\"Result rel freq\":0.6},{\"ID\":8397,\"Result\":6.0,\"View Count\":41,\"Result rel freq\":0.46},{\"ID\":8398,\"Result\":5.0,\"View Count\":116,\"Result rel freq\":1.29},{\"ID\":8399,\"Result\":6.0,\"View Count\":150,\"Result rel freq\":1.67},{\"ID\":8400,\"Result\":6.0,\"View Count\":124,\"Result rel freq\":1.38},{\"ID\":8401,\"Result\":6.0,\"View Count\":106,\"Result rel freq\":1.18},{\"ID\":8402,\"Result\":6.0,\"View Count\":105,\"Result rel freq\":1.17},{\"ID\":8403,\"Result\":6.0,\"View Count\":48,\"Result rel freq\":0.53},{\"ID\":8404,\"Result\":5.0,\"View Count\":48,\"Result rel freq\":0.53},{\"ID\":8405,\"Result\":3.0,\"View Count\":9,\"Result rel freq\":0.1},{\"ID\":8406,\"Result\":6.0,\"View Count\":84,\"Result rel freq\":0.93},{\"ID\":8407,\"Result\":6.0,\"View Count\":78,\"Result rel freq\":0.87},{\"ID\":8408,\"Result\":6.0,\"View Count\":114,\"Result rel freq\":1.27},{\"ID\":8409,\"Result\":6.0,\"View Count\":15,\"Result rel freq\":0.17},{\"ID\":8410,\"Result\":4.0,\"View Count\":75,\"Result rel freq\":0.83},{\"ID\":8411,\"Result\":4.0,\"View Count\":43,\"Result rel freq\":0.48},{\"ID\":8412,\"Result\":4.0,\"View Count\":110,\"Result rel freq\":1.22},{\"ID\":8413,\"Result\":6.0,\"View Count\":139,\"Result rel freq\":1.55},{\"ID\":8414,\"Result\":6.0,\"View Count\":173,\"Result rel freq\":1.92},{\"ID\":8415,\"Result\":4.0,\"View Count\":129,\"Result rel freq\":1.44},{\"ID\":8416,\"Result\":2.0,\"View Count\":35,\"Result rel freq\":0.39},{\"ID\":8417,\"Result\":5.0,\"View Count\":44,\"Result rel freq\":0.49},{\"ID\":8418,\"Result\":6.0,\"View Count\":21,\"Result rel freq\":0.23},{\"ID\":8419,\"Result\":6.0,\"View Count\":59,\"Result rel freq\":0.66},{\"ID\":8420,\"Result\":6.0,\"View Count\":109,\"Result rel freq\":1.21},{\"ID\":8421,\"Result\":6.0,\"View Count\":60,\"Result rel freq\":0.67},{\"ID\":8422,\"Result\":6.0,\"View Count\":72,\"Result rel freq\":0.8},{\"ID\":8423,\"Result\":6.0,\"View Count\":105,\"Result rel freq\":1.17},{\"ID\":8424,\"Result\":6.0,\"View Count\":158,\"Result rel freq\":1.76},{\"ID\":8425,\"Result\":2.0,\"View Count\":21,\"Result rel freq\":0.23},{\"ID\":8426,\"Result\":6.0,\"View Count\":47,\"Result rel freq\":0.52},{\"ID\":8427,\"Result\":6.0,\"View Count\":169,\"Result rel freq\":1.88},{\"ID\":8428,\"Result\":6.0,\"View Count\":63,\"Result rel freq\":0.7},{\"ID\":8429,\"Result\":2.0,\"View Count\":41,\"Result rel freq\":0.46},{\"ID\":8430,\"Result\":2.0,\"View Count\":46,\"Result rel freq\":0.51},{\"ID\":8431,\"Result\":6.0,\"View Count\":72,\"Result rel freq\":0.8},{\"ID\":8432,\"Result\":5.0,\"View Count\":68,\"Result rel freq\":0.76},{\"ID\":8433,\"Result\":2.0,\"View Count\":16,\"Result rel freq\":0.18},{\"ID\":8434,\"Result\":2.0,\"View Count\":40,\"Result rel freq\":0.45},{\"ID\":8435,\"Result\":6.0,\"View Count\":55,\"Result rel freq\":0.61},{\"ID\":8436,\"Result\":4.0,\"View Count\":56,\"Result rel freq\":0.62},{\"ID\":8437,\"Result\":6.0,\"View Count\":58,\"Result rel freq\":0.65},{\"ID\":8438,\"Result\":6.0,\"View Count\":10,\"Result rel freq\":0.11},{\"ID\":8439,\"Result\":5.0,\"View Count\":95,\"Result rel freq\":1.06},{\"ID\":8440,\"Result\":4.0,\"View Count\":15,\"Result rel freq\":0.17},{\"ID\":8441,\"Result\":2.0,\"View Count\":17,\"Result rel freq\":0.19},{\"ID\":8442,\"Result\":4.0,\"View Count\":65,\"Result rel freq\":0.72},{\"ID\":8443,\"Result\":5.0,\"View Count\":47,\"Result rel freq\":0.52},{\"ID\":8444,\"Result\":6.0,\"View Count\":31,\"Result rel freq\":0.34},{\"ID\":8445,\"Result\":6.0,\"View Count\":183,\"Result rel freq\":2.04},{\"ID\":8446,\"Result\":6.0,\"View Count\":20,\"Result rel freq\":0.22},{\"ID\":8447,\"Result\":5.0,\"View Count\":67,\"Result rel freq\":0.75},{\"ID\":8448,\"Result\":6.0,\"View Count\":37,\"Result rel freq\":0.41},{\"ID\":8449,\"Result\":6.0,\"View Count\":148,\"Result rel freq\":1.65},{\"ID\":8450,\"Result\":6.0,\"View Count\":57,\"Result rel freq\":0.63},{\"ID\":8451,\"Result\":5.0,\"View Count\":65,\"Result rel freq\":0.72},{\"ID\":8452,\"Result\":6.0,\"View Count\":74,\"Result rel freq\":0.82},{\"ID\":8453,\"Result\":3.0,\"View Count\":92,\"Result rel freq\":1.02},{\"ID\":8454,\"Result\":6.0,\"View Count\":94,\"Result rel freq\":1.05},{\"ID\":8455,\"Result\":6.0,\"View Count\":136,\"Result rel freq\":1.51},{\"ID\":8456,\"Result\":5.0,\"View Count\":37,\"Result rel freq\":0.41},{\"ID\":8457,\"Result\":6.0,\"View Count\":37,\"Result rel freq\":0.41},{\"ID\":8458,\"Result\":2.0,\"View Count\":55,\"Result rel freq\":0.61},{\"ID\":8459,\"Result\":5.0,\"View Count\":102,\"Result rel freq\":1.13},{\"ID\":8465,\"Result\":6.0,\"View Count\":161,\"Result rel freq\":1.79},{\"ID\":8483,\"Result\":5.0,\"View Count\":96,\"Result rel freq\":1.07},{\"ID\":8487,\"Result\":2.0,\"View Count\":2,\"Result rel freq\":0.02}]'"
      ]
     },
     "execution_count": 24,
     "metadata": {},
     "output_type": "execute_result"
    }
   ],
   "source": [
    "pt = ''\n",
    "corr_df.to_json(orient='records')"
   ]
  },
  {
   "cell_type": "code",
   "execution_count": 27,
   "id": "1d025aa9",
   "metadata": {},
   "outputs": [
    {
     "data": {
      "text/plain": [
       "<AxesSubplot:xlabel='Result', ylabel='View Count'>"
      ]
     },
     "execution_count": 27,
     "metadata": {},
     "output_type": "execute_result"
    },
    {
     "data": {
      "image/png": "[encoded data removed]",
      "text/plain": [
       "<Figure size 432x288 with 1 Axes>"
      ]
     },
     "metadata": {
      "needs_background": "light"
     },
     "output_type": "display_data"
    }
   ],
   "source": [
    "corr_df.plot(x ='Result', y='View Count', kind = 'scatter')"
   ]
  }
 ],
 "metadata": {
  "kernelspec": {
   "display_name": "Python 3",
   "language": "python",
   "name": "python3"
  },
  "language_info": {
   "codemirror_mode": {
    "name": "ipython",
    "version": 3
   },
   "file_extension": ".py",
   "mimetype": "text/x-python",
   "name": "python",
   "nbconvert_exporter": "python",
   "pygments_lexer": "ipython3",
   "version": "3.8.5"
  }
 },
 "nbformat": 4,
 "nbformat_minor": 5
}
